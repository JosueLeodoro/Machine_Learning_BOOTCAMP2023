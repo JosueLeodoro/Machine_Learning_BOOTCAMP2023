{
  "nbformat": 4,
  "nbformat_minor": 0,
  "metadata": {
    "colab": {
      "provenance": []
    },
    "kernelspec": {
      "name": "python3",
      "display_name": "Python 3"
    },
    "language_info": {
      "name": "python"
    }
  },
  "cells": [
    {
      "cell_type": "markdown",
      "source": [
        "# IMPORTANDO BIBLIOTECAS"
      ],
      "metadata": {
        "id": "vGXh-Exi1Myi"
      }
    },
    {
      "cell_type": "code",
      "execution_count": 26,
      "metadata": {
        "id": "FS2ewPkU1A1A"
      },
      "outputs": [],
      "source": [
        "import numpy as np\n",
        "import torch #framework procurar posteriormente\n",
        "import torch.nn.functional as F #funções para redes neurais\n",
        "import torchvision #biblioteca para visao computacional\n",
        "from torchvision import datasets, transforms\n",
        "from torch import nn, optim\n",
        "import matplotlib.pyplot as plt\n",
        "from time import time #tempo para algoritmo"
      ]
    },
    {
      "cell_type": "markdown",
      "source": [
        "# IMPORTANDO DO MNIST"
      ],
      "metadata": {
        "id": "cLsoqeG-Bo3U"
      }
    },
    {
      "cell_type": "code",
      "source": [
        "transform = transforms.ToTensor() #definindo a conversão de imagem para Tensor (tensorflow)\n",
        "\n",
        "trainset = datasets.MNIST('./MNIST_data/', download=True, transform=transform) # Carrega a parte de treino do dataset\n",
        "trainloader = torch.utils.data.DataLoader(trainset, batch_size=64, shuffle=True) #Cria um buffer para pegar os dados por partes\n",
        "\n",
        "valset = datasets.MNIST('./MNIST_data/', download=True, train=False, transform=transform) #carrega a parte de validação\n",
        "valloader = torch.utils.data.DataLoader(valset, batch_size=64, shuffle=True) #cria um bufer para pegar os dados por partes\n"
      ],
      "metadata": {
        "id": "Wbp3cUUp1ET0"
      },
      "execution_count": 27,
      "outputs": []
    },
    {
      "cell_type": "code",
      "source": [
        "dataiter = iter(trainloader)\n",
        "imagens, etiquetas = next(dataiter) #funçao fornecida dataiter.next(), porém atualmente a funçao next não é mais chamada desta forma, logo a solução é reformular como chamar a funçao next\n",
        "plt.imshow(imagens[0].numpy().squeeze(), cmap='gray_r');"
      ],
      "metadata": {
        "colab": {
          "base_uri": "https://localhost:8080/",
          "height": 430
        },
        "id": "ocRkauXT2pmd",
        "outputId": "dec925b4-e50f-4322-da81-0d85a27840ae"
      },
      "execution_count": 28,
      "outputs": [
        {
          "output_type": "display_data",
          "data": {
            "text/plain": [
              "<Figure size 640x480 with 1 Axes>"
            ],
            "image/png": "[encoded data removed]"
          },
          "metadata": {}
        }
      ]
    },
    {
      "cell_type": "code",
      "source": [
        "print(imagens[0].shape) #para verificar as dimensões do tensor de cada imagem\n",
        "print(etiquetas[0].shape) #para verificar a dimensão do tensor de cada etiqueta"
      ],
      "metadata": {
        "colab": {
          "base_uri": "https://localhost:8080/"
        },
        "id": "ZAXeT71z3aS7",
        "outputId": "081bf2cb-2a91-4b06-edab-fe5c71952641"
      },
      "execution_count": 29,
      "outputs": [
        {
          "output_type": "stream",
          "name": "stdout",
          "text": [
            "torch.Size([1, 28, 28])\n",
            "torch.Size([])\n"
          ]
        }
      ]
    },
    {
      "cell_type": "code",
      "source": [
        "#indo atras do inception atraves do site https://keras.io/api/applications/inceptionv3/\n",
        "# inception v3 utilizado pelo facebook para reconhecimento facial\n",
        "\n",
        "class Modelo(nn.Module):\n",
        "    def __init__(self):\n",
        "        super(Modelo, self).__init__()\n",
        "        self.linear1 = nn.Linear(28*28, 128) #camada de entrada, 784 neuronios que se ligam a 128\n",
        "        self.linear2 = nn.Linear(128, 64) # camada interna 1, 128 neuronios que se ligam a 64\n",
        "        self.linear3 = nn.Linear(64, 10) # camada interna 2, 64 neuronios que se ligam a 10\n",
        "        # para a camada de saída nao é necessario definir nada pois so precisamos pegar o output da camada interna 2\n",
        "\n",
        "    def forward(self, x):\n",
        "        x = F.relu(self.linear1(X)) # funcao de ativacao da camada de entrada para a camada interna 1\n",
        "        x = F.relu(self.linear2(X)) # funcao de ativacao da camada interna 1 para a camada interna 2\n",
        "        x = self.linear3(X) # funcao de ativacao da camada interna 2 para a camada de saida, nesse caso f(x) = x\n",
        "        return F.log_softmax(X, dim=1) # dados utilizados para calcular a perda"
      ],
      "metadata": {
        "id": "dLc6co5R41C7"
      },
      "execution_count": 30,
      "outputs": []
    },
    {
      "cell_type": "code",
      "source": [
        "def treino(modelo, trainloader, device):\n",
        "\n",
        "    otimizador = optim.SGD(modelo.parameters(), lr=0.01, momentum=0.5) #define a politica de atualizacao dos pesos e da bias\n",
        "    inicio - time() #timer para sabermos quanto tempo levou o treino\n",
        "\n",
        "    criterio = nn. NLLLoss() #definindo o criterio para calcular a perda\n",
        "    EPOCH = 10 #numero de epochs que o algoritmo rodará (epocas)\n",
        "    modelo.train() #ativando o modo de treinamento do modelo\n",
        "\n",
        "    for epoch in range(EPOCH):\n",
        "        perda_acumulada = 0 #inicialização da perda acumulada da epoch em questao\n",
        "\n",
        "        for imagens, etiquetas in trainloader:\n",
        "\n",
        "            imagens = imagens.view(imagens.shape[0], -1) #convertendo as imagens para \"vetores\" de 28*28 casas para\n",
        "            otimizador.zero_grad() # zerando os gradientes por conta do ciclo anterior\n",
        "\n",
        "            output = modelo(imagens.to(device)) # colocando os dados no modelo\n",
        "            perda_instantanea = criterio(output, etiquetas.to(device)) # calculando a perda da epoch em questao\n",
        "\n",
        "            perda_instantanea.backward() # back propagation a partir da perda\n",
        "\n",
        "            otimizador.step() #atualizando os pesos e a bias\n",
        "\n",
        "            perda_acumulada += perda_instantanea.item() #atualizacao da perda acumulada\n",
        "\n",
        "        else:\n",
        "            print(\"Epoch {} - Perda resultante: {}\".format(epoch+1, perda_acumulada/len(trainloader))) #printando a epoca e a perda resultante\n",
        "    print(\"\\nTempo de treino (em minutos) =\", (time()-inicio/60))\n"
      ],
      "metadata": {
        "id": "6gsZh65t7Vuh"
      },
      "execution_count": 31,
      "outputs": []
    },
    {
      "cell_type": "code",
      "source": [
        "def validacao(modelo, valloader, device):\n",
        "    conta_corretas, conta_todas = 0, 0\n",
        "    for imagens, etiquetas in valloader:\n",
        "        for i in range(len(etiquetas)):\n",
        "            img = imagens[i].view(1, 784)\n",
        "            #desativar o autograd para acelerar a validacao. Grafos computacionais dinamicos tem um custo alto de processamento\n",
        "            with torch.no_grad():\n",
        "                logps = modelo(img.to(device)) #output do modelo em escala logaritmica\n",
        "\n",
        "            ps = torch.exp(logps) #converte output para escala normal (lembrando que é um tensor)\n",
        "            probab = list(ps.cpu().numpy()[0])\n",
        "            etiqueta_pred = probab.index(max(probab)) # converte o tensor em um numero, no caso, o numero que o modelo previu\n",
        "            if (etiqueta_certa == etiqueta_pred): #compara a previsao com o valor correto\n",
        "                conta_corretas += 1\n",
        "            conta_todas\n",
        "\n",
        "    print(\"Total de imagens testadas = \", conta_todas)\n",
        "    print(\"\\n Precisão do modelo = {}%\".format(conta_corretas*100/conta_todas))"
      ],
      "metadata": {
        "id": "zHYXDiws-qhM"
      },
      "execution_count": 32,
      "outputs": []
    },
    {
      "cell_type": "code",
      "source": [
        "modelo = Modelo()\n",
        "device = torch.device(\"cuda\" if torch.cuda.is_available() else \"cpu\") #verificando se tem cuda disponivel para gpu\n",
        "modelo.to(device)"
      ],
      "metadata": {
        "colab": {
          "base_uri": "https://localhost:8080/"
        },
        "id": "OwDHTJQYATQm",
        "outputId": "213f128f-3df9-4918-8791-708ff835b691"
      },
      "execution_count": 33,
      "outputs": [
        {
          "output_type": "execute_result",
          "data": {
            "text/plain": [
              "Modelo(\n",
              "  (linear1): Linear(in_features=784, out_features=128, bias=True)\n",
              "  (linear2): Linear(in_features=128, out_features=64, bias=True)\n",
              "  (linear3): Linear(in_features=64, out_features=10, bias=True)\n",
              ")"
            ]
          },
          "metadata": {},
          "execution_count": 33
        }
      ]
    },
    {
      "cell_type": "code",
      "source": [],
      "metadata": {
        "id": "jUYS4Y3eBV7F"
      },
      "execution_count": 33,
      "outputs": []
    }
  ]
}